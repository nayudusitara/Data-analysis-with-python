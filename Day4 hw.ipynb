{
 "cells": [
  {
   "cell_type": "code",
   "execution_count": 1,
   "id": "ddb6488d",
   "metadata": {},
   "outputs": [],
   "source": [
    "import pandas as pd\n",
    "import selenium as se\n",
    "from selenium import webdriver \n",
    "from selenium.webdriver.chrome.options import Options\n",
    "from selenium.webdriver.common.by import By\n",
    "from selenium.webdriver.common.keys import Keys\n",
    "from webdriver_manager.chrome import ChromeDriverManager\n",
    "import pandas as pd"
   ]
  },
  {
   "cell_type": "code",
   "execution_count": 2,
   "id": "d622aade",
   "metadata": {},
   "outputs": [],
   "source": [
    "#define options and set browser capabilities\n",
    "options=webdriver.ChromeOptions()\n",
    "options.add_argument('- -some options')"
   ]
  },
  {
   "cell_type": "code",
   "execution_count": 3,
   "id": "9533de2b",
   "metadata": {},
   "outputs": [],
   "source": [
    "#create webdriver instance with options \n",
    "driver=webdriver.Chrome(options=options)"
   ]
  },
  {
   "cell_type": "code",
   "execution_count": 4,
   "id": "5ca3630c",
   "metadata": {},
   "outputs": [],
   "source": [
    "driver.get(\"https://www.amazon.in/\")"
   ]
  },
  {
   "cell_type": "code",
   "execution_count": 5,
   "id": "69a6e71b",
   "metadata": {},
   "outputs": [],
   "source": [
    "search=driver.find_element(By.ID,\"twotabsearchtextbox\")"
   ]
  },
  {
   "cell_type": "code",
   "execution_count": 6,
   "id": "486d0550",
   "metadata": {},
   "outputs": [],
   "source": [
    "search.send_keys(\" Top 10 Dell laptops\")"
   ]
  },
  {
   "cell_type": "code",
   "execution_count": 7,
   "id": "4518f738",
   "metadata": {},
   "outputs": [],
   "source": [
    "search.send_keys(Keys.ENTER)"
   ]
  },
  {
   "cell_type": "code",
   "execution_count": 10,
   "id": "846b1bae",
   "metadata": {},
   "outputs": [
    {
     "ename": "SyntaxError",
     "evalue": "invalid non-printable character U+00A0 (2718195425.py, line 5)",
     "output_type": "error",
     "traceback": [
      "\u001b[1;36m  Cell \u001b[1;32mIn[10], line 5\u001b[1;36m\u001b[0m\n\u001b[1;33m    print(al,'\\n')\u001b[0m\n\u001b[1;37m    ^\u001b[0m\n\u001b[1;31mSyntaxError\u001b[0m\u001b[1;31m:\u001b[0m invalid non-printable character U+00A0\n"
     ]
    }
   ],
   "source": [
    "names=driver.find_elements(By.XPATH,\".//span[@class='a-size-medium a-color-base a-text-normal']\")\n",
    "laptop_names=[i.text for i in names]\n",
    "print(len(laptop_names))\n",
    "for al in laptop_names:\n",
    "    print(al,'\\n')"
   ]
  },
  {
   "cell_type": "code",
   "execution_count": 16,
   "id": "60c44193",
   "metadata": {},
   "outputs": [
    {
     "ename": "NameError",
     "evalue": "name 'laptop_prices' is not defined",
     "output_type": "error",
     "traceback": [
      "\u001b[1;31m---------------------------------------------------------------------------\u001b[0m",
      "\u001b[1;31mNameError\u001b[0m                                 Traceback (most recent call last)",
      "Cell \u001b[1;32mIn[16], line 1\u001b[0m\n\u001b[1;32m----> 1\u001b[0m \u001b[38;5;28mprint\u001b[39m(\u001b[38;5;28mlen\u001b[39m(laptop_prices))\n",
      "\u001b[1;31mNameError\u001b[0m: name 'laptop_prices' is not defined"
     ]
    }
   ],
   "source": [
    "\n"
   ]
  },
  {
   "cell_type": "code",
   "execution_count": 8,
   "id": "412709a2",
   "metadata": {},
   "outputs": [
    {
     "name": "stdout",
     "output_type": "stream",
     "text": [
      "30\n",
      "['42,990', '74,990', '48,900', '33,990', '36,800', '17,309', '21,399', '19,499', '57,990', '35,990', '42,990', '', '', '20,990', '24,490', '16,990', '15,314', '16,400', '57,990', '46,990', '279', '279', '19,238', '59,990', '1,20,000', '35,500', '279', '279', '49,750', '87,790']\n"
     ]
    }
   ],
   "source": [
    "prices=driver.find_elements(By.XPATH,\".//span[@class='a-price-whole']\")\n",
    "laptop_prices=[i.text for i in prices]\n",
    "print(len(laptop_prices))\n",
    "print(laptop_prices)"
   ]
  },
  {
   "cell_type": "code",
   "execution_count": 9,
   "id": "213964ee",
   "metadata": {},
   "outputs": [
    {
     "name": "stdout",
     "output_type": "stream",
     "text": [
      "24\n",
      "['653', '188', '1,550', '58', '162', '181', '205', '625', '', '', '28', '77', '39', '283', '192', '181', '145', '9', '8', '30', '4', '1,019', '189', '85']\n"
     ]
    }
   ],
   "source": [
    "review=driver.find_elements(By.XPATH,\".//span[@class='a-size-base s-underline-text']\")\n",
    "laptop_review=[i.text for i in review]\n",
    "print(len(laptop_review))\n",
    "print(laptop_review)"
   ]
  },
  {
   "cell_type": "code",
   "execution_count": 22,
   "id": "a586c833",
   "metadata": {},
   "outputs": [
    {
     "name": "stdout",
     "output_type": "stream",
     "text": [
      "Empty DataFrame\n",
      "Columns: [names, prices, reviews]\n",
      "Index: []\n"
     ]
    }
   ],
   "source": [
    "df=pd.DataFrame(columns=['names','prices','reviews'])\n",
    "print(df)"
   ]
  },
  {
   "cell_type": "code",
   "execution_count": 23,
   "id": "66a84334",
   "metadata": {},
   "outputs": [],
   "source": [
    "df.to_csv('selenium.csv')"
   ]
  },
  {
   "cell_type": "code",
   "execution_count": null,
   "id": "4317d566",
   "metadata": {},
   "outputs": [],
   "source": []
  },
  {
   "cell_type": "code",
   "execution_count": null,
   "id": "bade1d16",
   "metadata": {},
   "outputs": [],
   "source": []
  }
 ],
 "metadata": {
  "kernelspec": {
   "display_name": "Python 3 (ipykernel)",
   "language": "python",
   "name": "python3"
  },
  "language_info": {
   "codemirror_mode": {
    "name": "ipython",
    "version": 3
   },
   "file_extension": ".py",
   "mimetype": "text/x-python",
   "name": "python",
   "nbconvert_exporter": "python",
   "pygments_lexer": "ipython3",
   "version": "3.11.5"
  }
 },
 "nbformat": 4,
 "nbformat_minor": 5
}
